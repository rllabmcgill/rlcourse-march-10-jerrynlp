{
 "cells": [
  {
   "cell_type": "markdown",
   "metadata": {},
   "source": [
    "# Tile Coding\n",
    "## Implementation\n",
    "Grid tiling is implemented as follows."
   ]
  },
  {
   "cell_type": "code",
   "execution_count": 24,
   "metadata": {
    "collapsed": false
   },
   "outputs": [],
   "source": [
    "%matplotlib inline\n",
    "import math\n",
    "# Class Defination of Tile Coding\n",
    "class TileCoding:\n",
    "    def __init__(self, tiling_num, tiling_size, tile_length, space_length):\n",
    "        self.tiling_num = tiling_num\n",
    "        self.tiling_size = tiling_size\n",
    "        self.tile_length = tile_length\n",
    "        self.space_length = space_length\n",
    "        self.movement = -(tiling_size * tile_length - space_length)/tiling_num\n",
    "    def gen_code(self, x, y):\n",
    "        tileIndices = []\n",
    "        original_x = 0.0\n",
    "        original_y = 0.0\n",
    "        for i in range(0, self.tiling_num):\n",
    "            grid_x = math.floor((x - original_x)/self.tile_length)\n",
    "            grid_y = math.floor((y - original_y)/self.tile_length)\n",
    "            tileIndices.append(grid_x * self.tiling_size + grid_y)\n",
    "            original_x += self.movement\n",
    "            original_y += self.movement\n",
    "        return tileIndices\n",
    "#test TileCoding\n",
    "#tileCoder = TileCoding(8, 10, 0.6, 5.4)\n",
    "#print tileCoder.gen_code(0.1, 0.1)\n",
    "#print tileCoder.gen_code(2.1, 3.1)"
   ]
  },
  {
   "cell_type": "markdown",
   "metadata": {},
   "source": [
    "# Experiments\n",
    "## Large Scale CliffWalking\n",
    "I used a large scale CliffWalking (m and n are greater than 100) to simulate a continue environment and Q-learning as the learning method."
   ]
  },
  {
   "cell_type": "code",
   "execution_count": 57,
   "metadata": {
    "collapsed": true
   },
   "outputs": [],
   "source": [
    "import numpy as np\n",
    "class CliffWalking:\n",
    "    def __init__(self, width = 100, height = 100):\n",
    "        self.width = width\n",
    "        self.height = height\n",
    "        self.x = 0\n",
    "        self.y = 0\n",
    "    def resetPosition(self):\n",
    "        self.x = 0\n",
    "        self.y = 0\n",
    "    def getReward(self):\n",
    "        rew = -1\n",
    "        if self.y == self.height - 1 and self.x == self.width - 1:\n",
    "            rew = 100\n",
    "        elif self.y == 0:\n",
    "            #cliff\n",
    "            self.resetPosition()\n",
    "            rew = -100\n",
    "        else:\n",
    "            rew = self.x\n",
    "        return rew\n",
    "    def move(self, moveType):\n",
    "        if moveType == 'u':\n",
    "            if self.y < self.height - 1:\n",
    "                self.y += 1\n",
    "        elif moveType == 'd':\n",
    "            if self.y > 0:\n",
    "                self.y -= 1\n",
    "        elif moveType == 'r':\n",
    "            if self.x < self.width - 1:\n",
    "                self.x += 1\n",
    "        elif moveType == 'l':\n",
    "            if self.x > 0:\n",
    "                self.x -= 1\n",
    "        return self.getReward()\n",
    "    def isEnd(self):\n",
    "        return (self.x > 0 and self.y == 0) or ((self.y == self.height - 1 and self.x == self.width - 1))\n",
    "    def getPosition(self):\n",
    "        return [self.x, self.y]"
   ]
  },
  {
   "cell_type": "markdown",
   "metadata": {},
   "source": [
    "### Q-learning"
   ]
  },
  {
   "cell_type": "code",
   "execution_count": 58,
   "metadata": {
    "collapsed": true
   },
   "outputs": [],
   "source": [
    "actions = ['u', 'd', 'r', 'l']\n",
    "epsilon = 0.1\n",
    "#Q Learning\n",
    "def qLearning_without_tileCoding(cw, width, height, avgR, iterator, max_iter):\n",
    "    q = np.zeros((width, height, 4))\n",
    "    G = 0.0\n",
    "    i = 0\n",
    "    while not cw.isEnd():\n",
    "        s0 = cw.getPosition()\n",
    "        a = q[s0[0], s0[1]].argmax()\n",
    "        if np.random.random() < epsilon:\n",
    "            a = np.random.choice(range(4))\n",
    "        r = cw.move(actions[a])\n",
    "        G += r\n",
    "        i += 1\n",
    "        if i <= max_iter:\n",
    "            avgR[i] = G / i\n",
    "        s1 = cw.getPosition()\n",
    "        q[s0[0], s0[1], a] +=  0.1 * (r + 0.8 * q[s1[0], s1[1]].max() - q[s0[0], s0[1], a])\n",
    "    iterator.append(i)"
   ]
  },
  {
   "cell_type": "markdown",
   "metadata": {},
   "source": [
    "### Q-learning with Tile Coding"
   ]
  },
  {
   "cell_type": "code",
   "execution_count": 59,
   "metadata": {
    "collapsed": false
   },
   "outputs": [],
   "source": [
    "actions = ['u', 'd', 'r', 'l']\n",
    "epsilon = 0.1\n",
    "#Q Learning\n",
    "def qLearning_with_tileCoding(cw, avgR, iterator, max_iter, tiling_num, tiling_size, tile_length):\n",
    "    q = {}\n",
    "    G = 0.0\n",
    "    i = 0\n",
    "    tileCoder = TileCoding(tiling_num, tiling_size, tile_length, 100)\n",
    "    while not cw.isEnd():\n",
    "        s0 = cw.getPosition()\n",
    "        tc0 = tileCoder.gen_code(s0[0], s0[1])\n",
    "        key = ' '.join([str(int(term)) for term in tc0])\n",
    "        if not key in q:\n",
    "            q[key] = np.zeros(4)\n",
    "        a = q[key].argmax()\n",
    "        if np.random.random() < epsilon:\n",
    "            a = np.random.choice(range(4))\n",
    "        r = cw.move(actions[a])\n",
    "        G += r\n",
    "        i += 1\n",
    "        if i <= max_iter:\n",
    "            avgR[i] = G / i\n",
    "        s1 = cw.getPosition()\n",
    "        tc1 = tileCoder.gen_code(s1[0], s1[1])\n",
    "        key = ' '.join([str(int(term)) for term in tc1])\n",
    "        if not key in q:\n",
    "            q[key] = np.zeros(4)\n",
    "        q[key][a] +=  0.1 * (r + 0.8 * q[key].max() - q[key][a])\n",
    "    iterator.append(i)"
   ]
  },
  {
   "cell_type": "markdown",
   "metadata": {},
   "source": [
    "### Comparison\n",
    "I run 50 times Q-learning with and without tile coding method to compare their performantce."
   ]
  },
  {
   "cell_type": "code",
   "execution_count": 66,
   "metadata": {
    "collapsed": false
   },
   "outputs": [
    {
     "name": "stdout",
     "output_type": "stream",
     "text": [
      "Average iteration of Q-learning without Tile Coding: 90468.3\n",
      "Average time of Q-learning without Tile Coding: 0.81798002243\n",
      "Average iteration of Q-learning with Tile Coding [4, 12]: 9507.48\n",
      "Average time of Q-learning with Tile Coding [4, 12]: 0.236319956779\n",
      "Average iteration of Q-learning with Tile Coding [4, 20]: 14232.18\n",
      "Average time of Q-learning with Tile Coding [4, 20]: 0.35490003109\n",
      "Average iteration of Q-learning with Tile Coding [8, 12]: 5541.16\n",
      "Average time of Q-learning with Tile Coding [8, 12]: 0.570880017281\n"
     ]
    },
    {
     "data": {
      "image/png": "[encoded data removed]",
      "text/plain": [
       "<matplotlib.figure.Figure at 0x6457ab0>"
      ]
     },
     "metadata": {},
     "output_type": "display_data"
    }
   ],
   "source": [
    "import matplotlib.pyplot as plt\n",
    "import time\n",
    "#initialize CliffWalking\n",
    "cw = CliffWalking()\n",
    "#without tile coding\n",
    "time1 = []\n",
    "ite1 = []\n",
    "avgR1 = [[0.0]*50] * 50\n",
    "#num = 4, size = 12 \n",
    "time2 = []\n",
    "ite2 = []\n",
    "avgR2 = [[0.0]*50] * 50\n",
    "#num = 4, size = 20\n",
    "time3 = []\n",
    "ite3 = []\n",
    "avgR3 = [[0.0]*50] * 50\n",
    "#num = 8, size = 12\n",
    "time4 = []\n",
    "ite4 = []\n",
    "avgR4 = [[0.0]*50] * 50\n",
    "\n",
    "for i in range(50):\n",
    "    cw.resetPosition()\n",
    "    begin = time.time()\n",
    "    qLearning_without_tileCoding(cw, 100, 100, avgR1[i], ite1, 49)\n",
    "    end = time.time()\n",
    "    time1.append(end - begin)\n",
    "    cw.resetPosition()\n",
    "    begin = time.time()\n",
    "    qLearning_with_tileCoding(cw, avgR2[i], ite2, 49, 4, 12, 12)\n",
    "    end = time.time()\n",
    "    time2.append(end - begin)\n",
    "    cw.resetPosition()\n",
    "    begin = time.time()\n",
    "    qLearning_with_tileCoding(cw, avgR3[i], ite3, 49, 4, 20, 6)\n",
    "    end = time.time()\n",
    "    cw.resetPosition()\n",
    "    time3.append(end - begin)\n",
    "    qLearning_with_tileCoding(cw, avgR4[i], ite4, 49, 8, 12, 12)\n",
    "    end = time.time()\n",
    "    time4.append(end - begin)\n",
    "plt.plot(np.mean(np.asarray(avgR1, dtype=np.float32), axis=0), label = 'QLearning')\n",
    "print \"Average iteration of Q-learning without Tile Coding: \" + str(np.mean(ite1))\n",
    "print \"Average time of Q-learning without Tile Coding: \" + str(np.mean(time1))\n",
    "plt.plot(np.mean(np.asarray(avgR2, dtype=np.float32), axis=0), label = 'QLearning with Tile Coding [4, 12]')\n",
    "print \"Average iteration of Q-learning with Tile Coding [4, 12]: \" + str(np.mean(ite2))\n",
    "print \"Average time of Q-learning with Tile Coding [4, 12]: \" + str(np.mean(time2))\n",
    "plt.plot(np.mean(np.asarray(avgR3, dtype=np.float32), axis=0), label = 'QLearning with Tile Coding [4, 20]')\n",
    "print \"Average iteration of Q-learning with Tile Coding [4, 20]: \" + str(np.mean(ite3))\n",
    "print \"Average time of Q-learning with Tile Coding [4, 20]: \" + str(np.mean(time3))\n",
    "plt.plot(np.mean(np.asarray(avgR4, dtype=np.float32), axis=0), label = 'QLearning with Tile Coding [8, 12]')\n",
    "print \"Average iteration of Q-learning with Tile Coding [8, 12]: \" + str(np.mean(ite4))\n",
    "print \"Average time of Q-learning with Tile Coding [8, 12]: \" + str(np.mean(time4))\n",
    "plt.ylabel('Reward per episode')\n",
    "plt.xlabel('Episodes')\n",
    "plt.legend(loc='best')\n",
    "plt.tight_layout()\n",
    "plt.show()"
   ]
  },
  {
   "cell_type": "markdown",
   "metadata": {},
   "source": [
    "From the above figure, Q-learning with tile coding needs much fewer steps and time to reach the goal.However, the number and size of tiles have a great influence on the results and need to be carefully selected."
   ]
  },
  {
   "cell_type": "markdown",
   "metadata": {
    "collapsed": true
   },
   "source": [
    "## An Experiment of Parameter Estimation\n",
    "I also tested and compared their performances on a basic SGD task based on tensorflow to see the effect of tile coding.\n",
    "### Results of Parameter Estimation"
   ]
  },
  {
   "cell_type": "code",
   "execution_count": null,
   "metadata": {
    "collapsed": true
   },
   "outputs": [],
   "source": [
    "import tensorflow as tf\n",
    "import numpy as np\n",
    "\n",
    "x_data = np.float32(np.random.rand(2, 100))\n",
    "y_data = np.dot([0.100, 0.200], x_data) + 0.300\n",
    "\n",
    "#model\n",
    "b = tf.Variable(tf.zeros([1]))\n",
    "W = tf.Variable(tf.random_uniform([1, 2], -1.0, 1.0))\n",
    "y = tf.matmul(W, x_data) + b\n",
    "\n",
    "loss = tf.reduce_mean(tf.square(y - y_data))\n",
    "optimizer = tf.train.GradientDescentOptimizer(0.5)\n",
    "train = optimizer.minimize(loss)\n",
    "\n",
    "init = tf.initialize_all_variables()\n",
    "\n",
    "sess = tf.Session()\n",
    "sess.run(init)\n",
    "\n",
    "#estimating\n",
    "for step in xrange(0, 201):\n",
    "    sess.run(train)\n",
    "    if step % 20 == 0:\n",
    "        print step, sess.run(W), sess.run(b), sess.run(loss)"
   ]
  },
  {
   "cell_type": "markdown",
   "metadata": {},
   "source": [
    "The output of this experiment without tile coding is as follows (this is copied from a machine with GPU),\n",
    "> 0 [[-0.00485091  0.6484623 ]] [ 0.28584111] 0.0402499\n",
    "\n",
    "> 20 [[ 0.07618259  0.2899161 ]] [ 0.26610792] 0.000695447\n",
    "\n",
    "> 40 [[ 0.09791516  0.22105317]] [ 0.29006329] 3.72425e-05\n",
    "\n",
    "> 60 [[ 0.10039029  0.20508216]] [ 0.29708934] 2.25053e-06\n"
   ]
  },
  {
   "cell_type": "code",
   "execution_count": null,
   "metadata": {
    "collapsed": true
   },
   "outputs": [],
   "source": [
    "import tensorflow as tf\n",
    "import numpy as np\n",
    "\n",
    "x_data_org = np.float32(np.random.rand(100, 2))\n",
    "x_data = np.float32(np.zero(100, 8))\n",
    "tileCoder = TileCoding(8, 20, 0.06, 1)\n",
    "i = 0\n",
    "for x in x_data:\n",
    "    codes = tileCoder.gen_code(x[0], x[1])\n",
    "    j = 0\n",
    "    for code in codes:\n",
    "        x_data[i][j] = code / 400\n",
    "        j += 1\n",
    "    i += 1\n",
    "x_data = x_data.transpose()\n",
    "y_data = np.dot([0.100, 0.200], x_data_org.transpose()) + 0.300\n",
    "\n",
    "#model\n",
    "b = tf.Variable(tf.zeros([1]))\n",
    "W = tf.Variable(tf.random_uniform([1, 8], -1.0, 1.0))\n",
    "y = tf.matmul(W, x_data) + b\n",
    "\n",
    "loss = tf.reduce_mean(tf.square(y - y_data))\n",
    "optimizer = tf.train.GradientDescentOptimizer(0.5)\n",
    "train = optimizer.minimize(loss)\n",
    "\n",
    "init = tf.initialize_all_variables()\n",
    "\n",
    "sess = tf.Session()\n",
    "sess.run(init)\n",
    "\n",
    "#estimating\n",
    "for step in xrange(0, 201):\n",
    "    sess.run(train)\n",
    "    if step % 20 == 0:\n",
    "        print step, sess.run(W), sess.run(b), sess.run(loss)"
   ]
  },
  {
   "cell_type": "markdown",
   "metadata": {},
   "source": [
    "The output of this experiment with tile coding is as follows (this is copied from a machine with GPU, the number of tiles is 8 and the size of tiles is 20),\n",
    "> 0 [[-0.37959146 -0.43442643 -0.84063673 -0.03851473  0.19489717  0.14552462\n",
    "  -0.43106794  0.06399334]] [ 0.54531169] 0.00582657\n",
    "  \n",
    "> 20 [[-0.37959146 -0.43502167 -0.84182721 -0.04030048  0.19251618  0.14254837\n",
    "  -0.43463942  0.05982658]] [ 0.51584381] 0.00485617\n",
    "  \n",
    "> 40 [[-0.37959146 -0.43502167 -0.84182721 -0.04030048  0.19251618  0.14254837\n",
    "  -0.43463942  0.05982658]] [ 0.51584381] 0.00485617\n",
    "  \n",
    "> 60 [[-0.37959146 -0.43502167 -0.84182721 -0.04030048  0.19251618  0.14254837\n",
    "  -0.43463942  0.05982658]] [ 0.51584381] 0.00485617\n",
    "\n",
    "When using tile coding, loss (rmse) is bigger than not using it. However, as the size of tiles increasing, the model can be better fitting to the dataset. This is the result when the size of tiles is 100,\n",
    "> 0 [[ 0.81096244 -0.72231978  0.57849675  0.58854902 -0.49350154 -0.75187999\n",
    "   0.30046245  0.39356732]] [ 0.45528671] 0.00575172\n",
    "   \n",
    "> 20 [[ 0.81096244 -0.72281671  0.57750273  0.58705813 -0.49548948 -0.75436485\n",
    "   0.29748058  0.39008844]] [ 0.43068367] 0.00507527\n",
    "   \n",
    "> 40 [[ 0.81096244 -0.72281671  0.57750273  0.58705813 -0.49548948 -0.75436485\n",
    "   0.29748058  0.39008844]] [ 0.43068367] 0.00507527\n",
    "   \n",
    "> 60 [[ 0.81096244 -0.72281671  0.57750273  0.58705813 -0.49548948 -0.75436485\n",
    "   0.29748058  0.39008844]] [ 0.43068367] 0.00507527\n",
    "   "
   ]
  },
  {
   "cell_type": "code",
   "execution_count": null,
   "metadata": {
    "collapsed": true
   },
   "outputs": [],
   "source": []
  }
 ],
 "metadata": {
  "kernelspec": {
   "display_name": "Python 2",
   "language": "python",
   "name": "python2"
  },
  "language_info": {
   "codemirror_mode": {
    "name": "ipython",
    "version": 2
   },
   "file_extension": ".py",
   "mimetype": "text/x-python",
   "name": "python",
   "nbconvert_exporter": "python",
   "pygments_lexer": "ipython2",
   "version": "2.7.12"
  }
 },
 "nbformat": 4,
 "nbformat_minor": 0
}
